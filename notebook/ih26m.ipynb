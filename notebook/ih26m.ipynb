{
 "cells": [
  {
   "cell_type": "code",
   "execution_count": 1,
   "id": "53d4a118",
   "metadata": {},
   "outputs": [],
   "source": [
    "import h5py"
   ]
  },
  {
   "cell_type": "code",
   "execution_count": 2,
   "id": "3e6b8958",
   "metadata": {},
   "outputs": [],
   "source": [
    "h5file = h5py.File(\"/mnt/qnap/data/datasets/InterHand2.6M_5fps_batch1/annotations/train/seq.h5\")"
   ]
  },
  {
   "cell_type": "code",
   "execution_count": 5,
   "id": "78164be5",
   "metadata": {},
   "outputs": [],
   "source": [
    "import numpy as np"
   ]
  },
  {
   "cell_type": "code",
   "execution_count": 16,
   "id": "7ea8e2e0",
   "metadata": {},
   "outputs": [],
   "source": [
    "joint_img_has_none = []\n",
    "\n",
    "for capture_id, capture in h5file.items():\n",
    "    for seq_name, sequence in capture.items():\n",
    "        for cam_id, camera in sequence.items():\n",
    "            for handedness, hand in camera.items():\n",
    "                for frame_range_name, frame_range in hand.items():\n",
    "                    if np.isnan(frame_range[\"annots\"][\"joint_img\"][:]).any():\n",
    "                        joint_img_has_none.append({\n",
    "                            \"path\": f\"{capture_id}, {seq_name}, {cam_id}, {handedness}, {frame_range_name}\",\n",
    "                            \"joint_img\": frame_range[\"annots\"][\"joint_img\"][:]\n",
    "                        })\n",
    "                        print(\"found\")"
   ]
  },
  {
   "cell_type": "code",
   "execution_count": 17,
   "id": "67623955",
   "metadata": {},
   "outputs": [
    {
     "data": {
      "text/plain": [
       "[]"
      ]
     },
     "execution_count": 17,
     "metadata": {},
     "output_type": "execute_result"
    }
   ],
   "source": [
    "joint_img_has_none"
   ]
  }
 ],
 "metadata": {
  "kernelspec": {
   "display_name": ".venv",
   "language": "python",
   "name": "python3"
  },
  "language_info": {
   "codemirror_mode": {
    "name": "ipython",
    "version": 3
   },
   "file_extension": ".py",
   "mimetype": "text/x-python",
   "name": "python",
   "nbconvert_exporter": "python",
   "pygments_lexer": "ipython3",
   "version": "3.10.0"
  }
 },
 "nbformat": 4,
 "nbformat_minor": 5
}
